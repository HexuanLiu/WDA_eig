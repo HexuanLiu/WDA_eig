{
 "cells": [
  {
   "cell_type": "code",
   "execution_count": null,
   "metadata": {},
   "outputs": [],
   "source": [
    "import numpy as np\n",
    "from wda_functions import wda_eig\n",
    "from dr import wda"
   ]
  },
  {
   "cell_type": "code",
   "execution_count": null,
   "metadata": {},
   "outputs": [],
   "source": [
    "from datasets import dataset_loader\n",
    "(x_train, y_train, x_test, y_test) = dataset_loader(dataset_path='../data', dataset='mnist')"
   ]
  },
  {
   "cell_type": "code",
   "execution_count": null,
   "metadata": {},
   "outputs": [],
   "source": [
    "from sklearn.decomposition import PCA \n",
    "## reduce dimension to avoid singular matrix\n",
    "pca = PCA(n_components=20)\n",
    "\n",
    "x_train_reduced = pca.fit_transform(x_train)\n",
    "x_test_reduced = pca.transform(x_test)"
   ]
  },
  {
   "cell_type": "code",
   "execution_count": null,
   "metadata": {},
   "outputs": [],
   "source": [
    "## compute baseline: original knn\n",
    "\n",
    "from sklearn.neighbors import KNeighborsClassifier\n",
    "from sklearn.metrics import accuracy_score\n",
    "from sklearn.decomposition import PCA \n",
    "from sklearn.discriminant_analysis import LinearDiscriminantAnalysis\n",
    "\n",
    "acclist=[]\n",
    "for i in [1,3,5,7,9,11,13,15,17,19]:\n",
    "    model = KNeighborsClassifier(n_neighbors=i)\n",
    "    model.fit(x_train,y_train)\n",
    "    predicted= model.predict(x_test) \n",
    "    acc=accuracy_score(predicted, y_test)\n",
    "    acclist.append(acc)\n",
    "print(acclist)"
   ]
  },
  {
   "cell_type": "code",
   "execution_count": null,
   "metadata": {},
   "outputs": [],
   "source": [
    "\n",
    "#%% Compute WDA\n",
    "d = x_train.shape[1]\n",
    "\n",
    "for j in range(1,15):\n",
    "    acclist = []\n",
    "    P0=np.random.randn(d,j)\n",
    "    Pwda, projwda = wda(x_train, y_train, p=j, reg=0.01, k=10, maxiter=1000)\n",
    "        \n",
    "    for i in [1,3,5,7,9,11,13,15,17,19]:\n",
    "        model = KNeighborsClassifier(n_neighbors=i)\n",
    "        model.fit(projwda(x_train),y_train)\n",
    "        \n",
    "        xtpw = projwda(x_test)\n",
    "        predicted= model.predict(xtpw) \n",
    "\n",
    "        acc=accuracy_score(predicted, y_test)\n",
    "        acclist.append(acc)\n",
    "    print(acclist)\n",
    "\n"
   ]
  },
  {
   "cell_type": "code",
   "execution_count": null,
   "metadata": {},
   "outputs": [],
   "source": [
    "#%% Compute WDA-eig\n",
    "d = x_train.shape[1]\n",
    "\n",
    "for j in range(1,15):\n",
    "    acclist2 = []\n",
    "    P0=np.random.randn(d,j)\n",
    "    Pwda, projwda, obj = wda_eig(x_train, y_train, j, 0.01, P0, Breg=2.0, k=10, maxiter=100)\n",
    "        \n",
    "    for i in [1,3,5,7,9,11,13,15,17,19]:\n",
    "        model = KNeighborsClassifier(n_neighbors=i)\n",
    "        model.fit(projwda(x_train),y_train)\n",
    "        \n",
    "        xtpw = projwda(x_test)\n",
    "        predicted= model.predict(xtpw) \n",
    "\n",
    "        acc=accuracy_score(predicted, y_test)\n",
    "        acclist2.append(acc)\n",
    "    print(acclist2)"
   ]
  },
  {
   "cell_type": "code",
   "execution_count": null,
   "metadata": {},
   "outputs": [],
   "source": []
  }
 ],
 "metadata": {
  "kernelspec": {
   "display_name": "Python 3",
   "language": "python",
   "name": "python3"
  },
  "language_info": {
   "codemirror_mode": {
    "name": "ipython",
    "version": 3
   },
   "file_extension": ".py",
   "mimetype": "text/x-python",
   "name": "python",
   "nbconvert_exporter": "python",
   "pygments_lexer": "ipython3",
   "version": "3.7.6"
  }
 },
 "nbformat": 4,
 "nbformat_minor": 4
}
