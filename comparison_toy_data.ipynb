{
 "cells": [
  {
   "cell_type": "code",
   "execution_count": 2,
   "metadata": {},
   "outputs": [],
   "source": [
    "import numpy as np\n",
    "from scipy import linalg\n",
    "from numpy.linalg import norm"
   ]
  },
  {
   "cell_type": "code",
   "execution_count": 3,
   "metadata": {},
   "outputs": [],
   "source": [
    "from dr import wda"
   ]
  },
  {
   "cell_type": "code",
   "execution_count": 4,
   "metadata": {},
   "outputs": [],
   "source": [
    "def pair_tensor(T,x1,x2):\n",
    "    temp=x1[:,None] - x2 \n",
    "    C=temp*T[:,:,None]\n",
    "    ans = np.tensordot(C, temp, ([0,1],[0,1]))\n",
    "    return ans\n",
    "\n",
    "def dist(x1, x2):\n",
    "    \"\"\" Compute squared euclidean distance between samples (autograd)\n",
    "    \"\"\"\n",
    "    x1p2 = np.sum(np.square(x1), 1)\n",
    "    x2p2 = np.sum(np.square(x2), 1)\n",
    "    return x1p2.reshape((-1, 1)) + x2p2.reshape((1, -1)) - 2 * np.dot(x1, x2.T)\n",
    "\n",
    "\n",
    "def sinkhorn(w1, w2, M, reg, k):\n",
    "    \"\"\"Sinkhorn algorithm with fixed number of iteration (autograd)\n",
    "    \"\"\"\n",
    "    K = np.exp(-M/reg )\n",
    "    ui = np.ones((M.shape[0],), dtype=np.double)\n",
    "    vi = np.ones((M.shape[1],), dtype=np.double)\n",
    "    for i in range(k):\n",
    "        vi = w2 / (np.dot(K.T, ui))\n",
    "        ui = w1 / (np.dot(K, vi))\n",
    "    G = ui.reshape((M.shape[0], 1)) * K * vi.reshape((1, M.shape[1]))\n",
    "    return G\n",
    "\n",
    "\n",
    "def split_classes(X, y):\n",
    "    \"\"\"split samples in X by classes in y\n",
    "    \"\"\"\n",
    "    lstsclass = np.unique(y)\n",
    "    return [X[y == i, :].astype(np.double) for i in lstsclass]\n",
    "\n",
    "\n",
    "\n",
    "def wda_eig(X, y, p, reg, k, maxiter, P0):\n",
    "    loss = []\n",
    "    mx = np.mean(X)\n",
    "    X -= mx.reshape((1, -1))\n",
    "\n",
    "    # data split between classes\n",
    "    d = X.shape[1]\n",
    "    xc = split_classes(X, y)\n",
    "    # compute uniform weighs\n",
    "    wc = [np.ones((x.shape[0]), dtype=np.double) / x.shape[0] for x in xc]\n",
    "    P=P0\n",
    "    \n",
    "    # pre-compute reg_c,c'\n",
    "    regmean = np.zeros((len(xc), len(xc)))\n",
    "    for i, xi in enumerate(xc):\n",
    "        xi = np.dot(xi, P0)\n",
    "        for j, xj in enumerate(xc[i:]):\n",
    "            xj = np.dot(xj, P0)\n",
    "            M = dist(xi, xj)\n",
    "            regmean[i,j] = np.sum(M)/(len(xi)*len(xj))\n",
    "\n",
    "\n",
    "    for it in range(maxiter):     \n",
    "        \n",
    "        loss_b = np.zeros((d,d))\n",
    "        loss_w = np.zeros((d,d))\n",
    "        for i, xi in enumerate(xc):\n",
    "            pxi = np.dot(xi, P)\n",
    "            for j, xj in enumerate(xc[i:]):\n",
    "                pxj = np.dot(xj, P)\n",
    "                M = dist(pxi, pxj)\n",
    "                #G = sinkhorn(wc[i], wc[j + i], M, reg/regmean[i,j], 1)\n",
    "                G = sinkhorn(wc[i], wc[j + i], M, reg, 1)\n",
    "                if j==0:\n",
    "                    loss_w += pair_tensor(G, xi, xj)\n",
    "                else:\n",
    "                    loss_b += pair_tensor(G, xi, xj)\n",
    "        w, V = linalg.eig(loss_b+loss_b.T, loss_w+loss_w.T)\n",
    "        w=np.real(w)\n",
    "        V=np.real(V)\n",
    "\n",
    "        idx = np.argsort(-w)\n",
    "        Pnew = V[:, idx[0:p]]\n",
    "        \n",
    "        Pinv = np.linalg.inv(P.T.dot(P))\n",
    "        Pninv = np.linalg.inv(Pnew.T.dot(Pnew))\n",
    "        angle = np.linalg.norm((P.dot(Pinv.dot(P.T))-Pnew.dot(Pninv.dot(Pnew.T))),2)\n",
    "        if it>0:\n",
    "            loss.append(angle)\n",
    "            #print(\"Iter: % 2d, angle: % 2.8f\" %(it, angle))\n",
    "        \n",
    "        P=Pnew\n",
    "        if (abs(angle)< 1e-6):\n",
    "            break\n",
    "\n",
    "    Popt = P\n",
    "\n",
    "    def proj(X):\n",
    "        return (X - mx.reshape((1, -1))).dot(Popt)\n",
    "\n",
    "    return Popt, proj, loss"
   ]
  },
  {
   "cell_type": "code",
   "execution_count": 5,
   "metadata": {},
   "outputs": [],
   "source": [
    "n = 1000  # nb samples in source and target datasets\n",
    "nz = 0.2\n",
    "\n",
    "np.random.seed(1)\n",
    "\n",
    "# generate circle dataset\n",
    "t = np.random.rand(n) * 2 * np.pi\n",
    "ys = np.floor((np.arange(n) * 1.0 / n * 3)) + 1\n",
    "xs = np.concatenate(\n",
    "    (np.cos(t).reshape((-1, 1)), np.sin(t).reshape((-1, 1))), 1)\n",
    "xs = xs * ys.reshape(-1, 1) + nz * np.random.randn(n, 2)\n",
    "\n",
    "t = np.random.rand(n) * 2 * np.pi\n",
    "yt = np.floor((np.arange(n) * 1.0 / n * 3)) + 1\n",
    "xt = np.concatenate(\n",
    "    (np.cos(t).reshape((-1, 1)), np.sin(t).reshape((-1, 1))), 1)\n",
    "xt = xt * yt.reshape(-1, 1) + nz * np.random.randn(n, 2)\n",
    "\n",
    "nbnoise = 8\n",
    "\n",
    "xs = np.hstack((xs, np.random.randn(n, nbnoise)))\n",
    "xt = np.hstack((xt, np.random.randn(n, nbnoise)))"
   ]
  },
  {
   "cell_type": "code",
   "execution_count": 6,
   "metadata": {},
   "outputs": [
    {
     "data": {
      "image/png": "[encoded data removed]",
      "text/plain": [
       "<Figure size 460.8x252 with 2 Axes>"
      ]
     },
     "metadata": {
      "needs_background": "light"
     },
     "output_type": "display_data"
    }
   ],
   "source": [
    "## plot data\n",
    "import matplotlib.pylab as pl\n",
    "%matplotlib inline\n",
    "\n",
    "pl.figure(1, figsize=(6.4, 3.5))\n",
    "\n",
    "pl.subplot(1, 2, 1)\n",
    "pl.scatter(xt[:, 0], xt[:, 1], c=yt, marker='+', label='Source samples')\n",
    "pl.legend(loc=0)\n",
    "pl.title('Discriminant dimensions')\n",
    "\n",
    "pl.subplot(1, 2, 2)\n",
    "pl.scatter(xt[:, 2], xt[:, 3], c=yt, marker='+', label='Source samples')\n",
    "pl.legend(loc=0)\n",
    "pl.title('Other dimensions')\n",
    "pl.tight_layout()"
   ]
  },
  {
   "cell_type": "code",
   "execution_count": 8,
   "metadata": {},
   "outputs": [],
   "source": [
    "from sklearn.neighbors import KNeighborsClassifier\n",
    "from sklearn.metrics import accuracy_score\n",
    "from sklearn.decomposition import PCA \n",
    "#%% Compare the accuracy and prob. of convergence\n",
    "p=2 # dimension of subspace\n",
    "d=xs.shape[1]\n",
    "k=10 # sinkhorn iteration number\n",
    "maxiter=1000\n",
    "reg=5.0 \n",
    "acclist_wda = []\n",
    "acclist_eig = []\n",
    "\n",
    "converged_wda = 0 \n",
    "converged_eig = 0\n",
    "\n",
    "for rep in range(100):\n",
    "    x0=np.random.randn(d,p) # random init\n",
    "    P0, r = np.linalg.qr(x0)\n",
    "    \n",
    "    ## train\n",
    "    Pwda, projwda, loss = wda_eig(xs, ys, 2, reg, 10, 100, P0)\n",
    "    #Pwda, projwda, loss = wda_eig(xs, ys, 2, reg,P0, k=10, maxiter=100, verbose = 0)   \n",
    "    model = KNeighborsClassifier(n_neighbors=10)\n",
    "    model.fit(projwda(xs),ys)\n",
    "    \n",
    "    ## test\n",
    "    predicted= model.predict(projwda(xt)) \n",
    "    acc = accuracy_score(yt, predicted)\n",
    "    if (acc>0.9):\n",
    "        converged_eig = converged_eig+1\n",
    "    acclist_eig.append(acc)\n",
    "    \n",
    "    Pwda2, projwda2 = wda(xs, ys, p=2, reg=reg, k=10, solver=None, maxiter=100, verbose=0, P0=P0)\n",
    "    model = KNeighborsClassifier(n_neighbors=10)\n",
    "    model.fit(projwda2(xs), ys)\n",
    "    \n",
    "    predicted2 = model.predict(projwda2(xt))\n",
    "    acc2 = accuracy_score(yt, predicted2)\n",
    "    if (acc2>0.9):\n",
    "        converged_wda = converged_wda+1\n",
    "    acclist_wda.append(acc2)\n",
    "    \n"
   ]
  },
  {
   "cell_type": "code",
   "execution_count": 9,
   "metadata": {},
   "outputs": [
    {
     "name": "stdout",
     "output_type": "stream",
     "text": [
      "WDA mean: 0.7625800000000003  std: 0.19276675958266248  converged trials: 44\n"
     ]
    }
   ],
   "source": [
    "print('WDA mean:', np.mean(acclist_wda), ' std:', np.std(acclist_wda), ' converged trials:', converged_wda)"
   ]
  },
  {
   "cell_type": "code",
   "execution_count": 10,
   "metadata": {},
   "outputs": [
    {
     "name": "stdout",
     "output_type": "stream",
     "text": [
      "WDA-eig mean: 0.9730000000000001  std: 1.1102230246251565e-16  converged trials: 100\n"
     ]
    }
   ],
   "source": [
    "print('WDA-eig mean:', np.mean(acclist_eig), ' std:', np.std(acclist_eig), ' converged trials:', converged_eig)"
   ]
  },
  {
   "cell_type": "code",
   "execution_count": null,
   "metadata": {},
   "outputs": [],
   "source": []
  }
 ],
 "metadata": {
  "kernelspec": {
   "display_name": "Python 3",
   "language": "python",
   "name": "python3"
  },
  "language_info": {
   "codemirror_mode": {
    "name": "ipython",
    "version": 3
   },
   "file_extension": ".py",
   "mimetype": "text/x-python",
   "name": "python",
   "nbconvert_exporter": "python",
   "pygments_lexer": "ipython3",
   "version": "3.7.6"
  }
 },
 "nbformat": 4,
 "nbformat_minor": 4
}
